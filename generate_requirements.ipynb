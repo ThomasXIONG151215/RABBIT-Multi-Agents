{
 "cells": [
  {
   "cell_type": "code",
   "execution_count": 4,
   "metadata": {},
   "outputs": [],
   "source": [
    "# 读取requirements.txt文件\n",
    "with open(\"requirements.txt\", \"r\") as myFile:\n",
    "    pkgs = myFile.readlines()\n",
    "\n",
    "# 提取包名并写入新的列表\n",
    "pkg_names = [pkg.split('==')[0].strip() for pkg in pkgs]\n",
    "\n",
    "# 写回requirements.txt文件，覆盖原有内容\n",
    "with open(\"requirements.txt\", \"w\") as myFile:\n",
    "    for pkg_name in pkg_names:\n",
    "        myFile.write(pkg_name + '\\n')"
   ]
  },
  {
   "cell_type": "code",
   "execution_count": null,
   "metadata": {},
   "outputs": [],
   "source": []
  }
 ],
 "metadata": {
  "kernelspec": {
   "display_name": "Python 3",
   "language": "python",
   "name": "python3"
  },
  "language_info": {
   "codemirror_mode": {
    "name": "ipython",
    "version": 3
   },
   "file_extension": ".py",
   "mimetype": "text/x-python",
   "name": "python",
   "nbconvert_exporter": "python",
   "pygments_lexer": "ipython3",
   "version": "3.11.3"
  }
 },
 "nbformat": 4,
 "nbformat_minor": 2
}
